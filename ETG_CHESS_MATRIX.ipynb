{
  "nbformat": 4,
  "nbformat_minor": 0,
  "metadata": {
    "colab": {
      "name": "ETG - CHESS MATRIX.ipynb",
      "provenance": []
    },
    "kernelspec": {
      "name": "python3",
      "display_name": "Python 3"
    },
    "language_info": {
      "name": "python"
    }
  },
  "cells": [
    {
      "cell_type": "markdown",
      "source": [
        "##**CHESS MATRIX**"
      ],
      "metadata": {
        "id": "RWdzyWChb6iD"
      }
    },
    {
      "cell_type": "code",
      "execution_count": 6,
      "metadata": {
        "id": "10-h3e1abb4d"
      },
      "outputs": [],
      "source": [
        "import matplotlib.pyplot as plt\n",
        "import cv2\n",
        "import numpy as np"
      ]
    },
    {
      "cell_type": "code",
      "source": [
        "colors = []\n",
        "\n",
        "for i in range(1, 9):\n",
        "     if i%2 == 0:\n",
        "          colors.append(255)\n",
        "     else:\n",
        "          colors.append(0) \n",
        "        \n",
        "\n",
        "chess_board = []\n",
        "\n",
        "for j in range(1, 9):\n",
        "     if j%2 == 0:\n",
        "          chess_board.append(colors) \n",
        "     else:\n",
        "          chess_board.append(colors[::-1])\n",
        "\n",
        "chess_board"
      ],
      "metadata": {
        "colab": {
          "base_uri": "https://localhost:8080/"
        },
        "id": "MbWIz6UQb38u",
        "outputId": "1af838eb-1be7-45a8-ce0d-d7ee618cf8ed"
      },
      "execution_count": 7,
      "outputs": [
        {
          "output_type": "execute_result",
          "data": {
            "text/plain": [
              "[[255, 0, 255, 0, 255, 0, 255, 0],\n",
              " [0, 255, 0, 255, 0, 255, 0, 255],\n",
              " [255, 0, 255, 0, 255, 0, 255, 0],\n",
              " [0, 255, 0, 255, 0, 255, 0, 255],\n",
              " [255, 0, 255, 0, 255, 0, 255, 0],\n",
              " [0, 255, 0, 255, 0, 255, 0, 255],\n",
              " [255, 0, 255, 0, 255, 0, 255, 0],\n",
              " [0, 255, 0, 255, 0, 255, 0, 255]]"
            ]
          },
          "metadata": {},
          "execution_count": 7
        }
      ]
    },
    {
      "cell_type": "code",
      "source": [
        "chess_matrix = np.array(chess_board)\n",
        "chess_matrix"
      ],
      "metadata": {
        "colab": {
          "base_uri": "https://localhost:8080/"
        },
        "id": "p46KgTW0ebfZ",
        "outputId": "2a415a26-4c0f-401c-8874-061df7614036"
      },
      "execution_count": 8,
      "outputs": [
        {
          "output_type": "execute_result",
          "data": {
            "text/plain": [
              "array([[255,   0, 255,   0, 255,   0, 255,   0],\n",
              "       [  0, 255,   0, 255,   0, 255,   0, 255],\n",
              "       [255,   0, 255,   0, 255,   0, 255,   0],\n",
              "       [  0, 255,   0, 255,   0, 255,   0, 255],\n",
              "       [255,   0, 255,   0, 255,   0, 255,   0],\n",
              "       [  0, 255,   0, 255,   0, 255,   0, 255],\n",
              "       [255,   0, 255,   0, 255,   0, 255,   0],\n",
              "       [  0, 255,   0, 255,   0, 255,   0, 255]])"
            ]
          },
          "metadata": {},
          "execution_count": 8
        }
      ]
    },
    {
      "cell_type": "code",
      "source": [
        "plt.imshow(chess_matrix)"
      ],
      "metadata": {
        "colab": {
          "base_uri": "https://localhost:8080/",
          "height": 282
        },
        "id": "8QbupII2e1S-",
        "outputId": "ab3a92f8-3f2a-4c5f-f527-3b811ffc1ae0"
      },
      "execution_count": 9,
      "outputs": [
        {
          "output_type": "execute_result",
          "data": {
            "text/plain": [
              "<matplotlib.image.AxesImage at 0x7fc944de89d0>"
            ]
          },
          "metadata": {},
          "execution_count": 9
        },
        {
          "output_type": "display_data",
          "data": {
            "image/png": "[encoded data removed]",
            "text/plain": [
              "<Figure size 432x288 with 1 Axes>"
            ]
          },
          "metadata": {
            "needs_background": "light"
          }
        }
      ]
    },
    {
      "cell_type": "code",
      "source": [
        "cv2.imwrite(\"chess_board.png\", chess_matrix)"
      ],
      "metadata": {
        "colab": {
          "base_uri": "https://localhost:8080/"
        },
        "id": "QUMqeArRfpsx",
        "outputId": "ae317cb8-01c9-44c6-b834-fa56598d07de"
      },
      "execution_count": 10,
      "outputs": [
        {
          "output_type": "execute_result",
          "data": {
            "text/plain": [
              "True"
            ]
          },
          "metadata": {},
          "execution_count": 10
        }
      ]
    }
  ]
}